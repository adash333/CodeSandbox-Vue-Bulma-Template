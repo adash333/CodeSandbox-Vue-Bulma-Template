{
  "nbformat": 4,
  "nbformat_minor": 0,
  "metadata": {
    "colab": {
      "name": "200726_ggplot-line-chart_001.ipynb",
      "provenance": [],
      "collapsed_sections": [],
      "include_colab_link": true
    },
    "kernelspec": {
      "name": "ir",
      "display_name": "R"
    }
  },
  "cells": [
    {
      "cell_type": "markdown",
      "metadata": {
        "id": "view-in-github",
        "colab_type": "text"
      },
      "source": [
        "<a href=\"https://colab.research.google.com/github/adash333/CodeSandbox-Vue-Bulma-Template/blob/master/200726_ggplot_line_chart_001.ipynb\" target=\"_parent\"><img src=\"https://colab.research.google.com/assets/colab-badge.svg\" alt=\"Open In Colab\"/></a>"
      ]
    },
    {
      "cell_type": "code",
      "metadata": {
        "id": "ocso8i49BDz1",
        "colab_type": "code",
        "colab": {
          "base_uri": "https://localhost:8080/",
          "height": 367
        },
        "outputId": "264bdf13-43ef-4106-f076-0a57d90c6de9"
      },
      "source": [
        "# 後で使用するので、とりあえずtidyverseを使用するための準備\n",
        "library(tidyverse)\n",
        "\n",
        "# read_excel()関数を使用するための準備\n",
        "library(readxl)\n",
        "\n",
        "# colaboratoryでは content フォルダにbook2.xlsxなどをアップロードする\n",
        "# Rでのデフォルトの場所は content　フォルダとなっている\n",
        "# d に、book2.xlsxの1番目のsheetをtibbleデータとして代入する\n",
        "# d <- read_excel(\"book2.xlsx\", sheet=1)\n",
        "# d\n",
        "\n",
        "# Google Colaboratoryでは、book2.xlsxはすぐに消えてしまうので、\n",
        "# 今回は、以下にtibbleでbook2.xlsxの中身を定義しておきます。\n",
        "\n",
        "d <- tribble(\n",
        "  ~id, ~age, ~sex, ~DM,\t~HbA1c00M, ~HbA1c01M,\t~HbA1c02M, ~HbA1c03M,\n",
        "  1,\t56,\t\"M\",\t1,\t7.3,\t7.4,\t7.3,\t7.4,\n",
        "  2,\t77,\t\"F\",\t1,\t8.3,\t8.4,\t8.3,\t8.2,\n",
        "  3,\t68,\t\"M\",\t1,\t7.1,\t7,\t7,\t7,\n",
        "  4,\t81,\t\"F\",\t1,\t7.6,\t7.4,\t7.3,\t7.4,\n",
        "  5,\t42,\t\"M\",\t1,\t10.1,\t8.4,\t7.3,\t6.5,\n",
        "  6,\t65,\t\"M\",\t1,\t6.1,\t6.2,\t6.,\t6.3,\n",
        "  7,\t68,\t\"F\",\t1,\t7.8,\t7.4,\t7.9,\t8.4,\n",
        ")\n",
        "d"
      ],
      "execution_count": null,
      "outputs": [
        {
          "output_type": "stream",
          "text": [
            "── \u001b[1mAttaching packages\u001b[22m ─────────────────────────────────────── tidyverse 1.2.1 ──\n",
            "\u001b[32m✔\u001b[39m \u001b[34mggplot2\u001b[39m 3.2.1     \u001b[32m✔\u001b[39m \u001b[34mpurrr  \u001b[39m 0.3.2\n",
            "\u001b[32m✔\u001b[39m \u001b[34mtibble \u001b[39m 2.1.3     \u001b[32m✔\u001b[39m \u001b[34mdplyr  \u001b[39m 0.8.3\n",
            "\u001b[32m✔\u001b[39m \u001b[34mtidyr  \u001b[39m 0.8.3     \u001b[32m✔\u001b[39m \u001b[34mstringr\u001b[39m 1.4.0\n",
            "\u001b[32m✔\u001b[39m \u001b[34mreadr  \u001b[39m 1.3.1     \u001b[32m✔\u001b[39m \u001b[34mforcats\u001b[39m 0.4.0\n",
            "── \u001b[1mConflicts\u001b[22m ────────────────────────────────────────── tidyverse_conflicts() ──\n",
            "\u001b[31m✖\u001b[39m \u001b[34mdplyr\u001b[39m::\u001b[32mfilter()\u001b[39m masks \u001b[34mstats\u001b[39m::filter()\n",
            "\u001b[31m✖\u001b[39m \u001b[34mdplyr\u001b[39m::\u001b[32mlag()\u001b[39m    masks \u001b[34mstats\u001b[39m::lag()\n"
          ],
          "name": "stderr"
        },
        {
          "output_type": "display_data",
          "data": {
            "text/plain": [
              "  id age sex DM HbA1c00M HbA1c01M HbA1c02M HbA1c03M\n",
              "1 1  56  M   1   7.3     7.4      7.3      7.4     \n",
              "2 2  77  F   1   8.3     8.4      8.3      8.2     \n",
              "3 3  68  M   1   7.1     7.0      7.0      7.0     \n",
              "4 4  81  F   1   7.6     7.4      7.3      7.4     \n",
              "5 5  42  M   1  10.1     8.4      7.3      6.5     \n",
              "6 6  65  M   1   6.1     6.2      6.0      6.3     \n",
              "7 7  68  F   1   7.8     7.4      7.9      8.4     "
            ],
            "text/latex": "A tibble: 7 × 8\n\\begin{tabular}{r|llllllll}\n id & age & sex & DM & HbA1c00M & HbA1c01M & HbA1c02M & HbA1c03M\\\\\n <dbl> & <dbl> & <chr> & <dbl> & <dbl> & <dbl> & <dbl> & <dbl>\\\\\n\\hline\n\t 1 & 56 & M & 1 &  7.3 & 7.4 & 7.3 & 7.4\\\\\n\t 2 & 77 & F & 1 &  8.3 & 8.4 & 8.3 & 8.2\\\\\n\t 3 & 68 & M & 1 &  7.1 & 7.0 & 7.0 & 7.0\\\\\n\t 4 & 81 & F & 1 &  7.6 & 7.4 & 7.3 & 7.4\\\\\n\t 5 & 42 & M & 1 & 10.1 & 8.4 & 7.3 & 6.5\\\\\n\t 6 & 65 & M & 1 &  6.1 & 6.2 & 6.0 & 6.3\\\\\n\t 7 & 68 & F & 1 &  7.8 & 7.4 & 7.9 & 8.4\\\\\n\\end{tabular}\n",
            "text/markdown": "\nA tibble: 7 × 8\n\n| id &lt;dbl&gt; | age &lt;dbl&gt; | sex &lt;chr&gt; | DM &lt;dbl&gt; | HbA1c00M &lt;dbl&gt; | HbA1c01M &lt;dbl&gt; | HbA1c02M &lt;dbl&gt; | HbA1c03M &lt;dbl&gt; |\n|---|---|---|---|---|---|---|---|\n| 1 | 56 | M | 1 |  7.3 | 7.4 | 7.3 | 7.4 |\n| 2 | 77 | F | 1 |  8.3 | 8.4 | 8.3 | 8.2 |\n| 3 | 68 | M | 1 |  7.1 | 7.0 | 7.0 | 7.0 |\n| 4 | 81 | F | 1 |  7.6 | 7.4 | 7.3 | 7.4 |\n| 5 | 42 | M | 1 | 10.1 | 8.4 | 7.3 | 6.5 |\n| 6 | 65 | M | 1 |  6.1 | 6.2 | 6.0 | 6.3 |\n| 7 | 68 | F | 1 |  7.8 | 7.4 | 7.9 | 8.4 |\n\n",
            "text/html": [
              "<table>\n",
              "<caption>A tibble: 7 × 8</caption>\n",
              "<thead>\n",
              "\t<tr><th scope=col>id</th><th scope=col>age</th><th scope=col>sex</th><th scope=col>DM</th><th scope=col>HbA1c00M</th><th scope=col>HbA1c01M</th><th scope=col>HbA1c02M</th><th scope=col>HbA1c03M</th></tr>\n",
              "\t<tr><th scope=col>&lt;dbl&gt;</th><th scope=col>&lt;dbl&gt;</th><th scope=col>&lt;chr&gt;</th><th scope=col>&lt;dbl&gt;</th><th scope=col>&lt;dbl&gt;</th><th scope=col>&lt;dbl&gt;</th><th scope=col>&lt;dbl&gt;</th><th scope=col>&lt;dbl&gt;</th></tr>\n",
              "</thead>\n",
              "<tbody>\n",
              "\t<tr><td>1</td><td>56</td><td>M</td><td>1</td><td> 7.3</td><td>7.4</td><td>7.3</td><td>7.4</td></tr>\n",
              "\t<tr><td>2</td><td>77</td><td>F</td><td>1</td><td> 8.3</td><td>8.4</td><td>8.3</td><td>8.2</td></tr>\n",
              "\t<tr><td>3</td><td>68</td><td>M</td><td>1</td><td> 7.1</td><td>7.0</td><td>7.0</td><td>7.0</td></tr>\n",
              "\t<tr><td>4</td><td>81</td><td>F</td><td>1</td><td> 7.6</td><td>7.4</td><td>7.3</td><td>7.4</td></tr>\n",
              "\t<tr><td>5</td><td>42</td><td>M</td><td>1</td><td>10.1</td><td>8.4</td><td>7.3</td><td>6.5</td></tr>\n",
              "\t<tr><td>6</td><td>65</td><td>M</td><td>1</td><td> 6.1</td><td>6.2</td><td>6.0</td><td>6.3</td></tr>\n",
              "\t<tr><td>7</td><td>68</td><td>F</td><td>1</td><td> 7.8</td><td>7.4</td><td>7.9</td><td>8.4</td></tr>\n",
              "</tbody>\n",
              "</table>\n"
            ]
          },
          "metadata": {
            "tags": []
          }
        }
      ]
    },
    {
      "cell_type": "code",
      "metadata": {
        "id": "XIA194jNF5JZ",
        "colab_type": "code",
        "colab": {
          "base_uri": "https://localhost:8080/",
          "height": 657
        },
        "outputId": "1fe2064f-dbf9-40ab-de8b-1c9cfc09521a"
      },
      "source": [
        "# 横長のデータを縦長(tidy data)にする\n",
        "tidy_d <- gather(d, \n",
        "  key=\"time\", value=\"HbA1c\",               # 新しくできる列の名前を指定\n",
        "  HbA1c00M, HbA1c01M, HbA1c02M,\tHbA1c03M)  # 変形する対象の列を指定\n",
        "tidy_d"
      ],
      "execution_count": null,
      "outputs": [
        {
          "output_type": "display_data",
          "data": {
            "text/plain": [
              "   id age sex DM time     HbA1c\n",
              "1  1  56  M   1  HbA1c00M  7.3 \n",
              "2  2  77  F   1  HbA1c00M  8.3 \n",
              "3  3  68  M   1  HbA1c00M  7.1 \n",
              "4  4  81  F   1  HbA1c00M  7.6 \n",
              "5  5  42  M   1  HbA1c00M 10.1 \n",
              "6  6  65  M   1  HbA1c00M  6.1 \n",
              "7  7  68  F   1  HbA1c00M  7.8 \n",
              "8  1  56  M   1  HbA1c01M  7.4 \n",
              "9  2  77  F   1  HbA1c01M  8.4 \n",
              "10 3  68  M   1  HbA1c01M  7.0 \n",
              "11 4  81  F   1  HbA1c01M  7.4 \n",
              "12 5  42  M   1  HbA1c01M  8.4 \n",
              "13 6  65  M   1  HbA1c01M  6.2 \n",
              "14 7  68  F   1  HbA1c01M  7.4 \n",
              "15 1  56  M   1  HbA1c02M  7.3 \n",
              "16 2  77  F   1  HbA1c02M  8.3 \n",
              "17 3  68  M   1  HbA1c02M  7.0 \n",
              "18 4  81  F   1  HbA1c02M  7.3 \n",
              "19 5  42  M   1  HbA1c02M  7.3 \n",
              "20 6  65  M   1  HbA1c02M  6.0 \n",
              "21 7  68  F   1  HbA1c02M  7.9 \n",
              "22 1  56  M   1  HbA1c03M  7.4 \n",
              "23 2  77  F   1  HbA1c03M  8.2 \n",
              "24 3  68  M   1  HbA1c03M  7.0 \n",
              "25 4  81  F   1  HbA1c03M  7.4 \n",
              "26 5  42  M   1  HbA1c03M  6.5 \n",
              "27 6  65  M   1  HbA1c03M  6.3 \n",
              "28 7  68  F   1  HbA1c03M  8.4 "
            ],
            "text/latex": "A tibble: 28 × 6\n\\begin{tabular}{r|llllll}\n id & age & sex & DM & time & HbA1c\\\\\n <dbl> & <dbl> & <chr> & <dbl> & <chr> & <dbl>\\\\\n\\hline\n\t 1 & 56 & M & 1 & HbA1c00M &  7.3\\\\\n\t 2 & 77 & F & 1 & HbA1c00M &  8.3\\\\\n\t 3 & 68 & M & 1 & HbA1c00M &  7.1\\\\\n\t 4 & 81 & F & 1 & HbA1c00M &  7.6\\\\\n\t 5 & 42 & M & 1 & HbA1c00M & 10.1\\\\\n\t 6 & 65 & M & 1 & HbA1c00M &  6.1\\\\\n\t 7 & 68 & F & 1 & HbA1c00M &  7.8\\\\\n\t 1 & 56 & M & 1 & HbA1c01M &  7.4\\\\\n\t 2 & 77 & F & 1 & HbA1c01M &  8.4\\\\\n\t 3 & 68 & M & 1 & HbA1c01M &  7.0\\\\\n\t 4 & 81 & F & 1 & HbA1c01M &  7.4\\\\\n\t 5 & 42 & M & 1 & HbA1c01M &  8.4\\\\\n\t 6 & 65 & M & 1 & HbA1c01M &  6.2\\\\\n\t 7 & 68 & F & 1 & HbA1c01M &  7.4\\\\\n\t 1 & 56 & M & 1 & HbA1c02M &  7.3\\\\\n\t 2 & 77 & F & 1 & HbA1c02M &  8.3\\\\\n\t 3 & 68 & M & 1 & HbA1c02M &  7.0\\\\\n\t 4 & 81 & F & 1 & HbA1c02M &  7.3\\\\\n\t 5 & 42 & M & 1 & HbA1c02M &  7.3\\\\\n\t 6 & 65 & M & 1 & HbA1c02M &  6.0\\\\\n\t 7 & 68 & F & 1 & HbA1c02M &  7.9\\\\\n\t 1 & 56 & M & 1 & HbA1c03M &  7.4\\\\\n\t 2 & 77 & F & 1 & HbA1c03M &  8.2\\\\\n\t 3 & 68 & M & 1 & HbA1c03M &  7.0\\\\\n\t 4 & 81 & F & 1 & HbA1c03M &  7.4\\\\\n\t 5 & 42 & M & 1 & HbA1c03M &  6.5\\\\\n\t 6 & 65 & M & 1 & HbA1c03M &  6.3\\\\\n\t 7 & 68 & F & 1 & HbA1c03M &  8.4\\\\\n\\end{tabular}\n",
            "text/markdown": "\nA tibble: 28 × 6\n\n| id &lt;dbl&gt; | age &lt;dbl&gt; | sex &lt;chr&gt; | DM &lt;dbl&gt; | time &lt;chr&gt; | HbA1c &lt;dbl&gt; |\n|---|---|---|---|---|---|\n| 1 | 56 | M | 1 | HbA1c00M |  7.3 |\n| 2 | 77 | F | 1 | HbA1c00M |  8.3 |\n| 3 | 68 | M | 1 | HbA1c00M |  7.1 |\n| 4 | 81 | F | 1 | HbA1c00M |  7.6 |\n| 5 | 42 | M | 1 | HbA1c00M | 10.1 |\n| 6 | 65 | M | 1 | HbA1c00M |  6.1 |\n| 7 | 68 | F | 1 | HbA1c00M |  7.8 |\n| 1 | 56 | M | 1 | HbA1c01M |  7.4 |\n| 2 | 77 | F | 1 | HbA1c01M |  8.4 |\n| 3 | 68 | M | 1 | HbA1c01M |  7.0 |\n| 4 | 81 | F | 1 | HbA1c01M |  7.4 |\n| 5 | 42 | M | 1 | HbA1c01M |  8.4 |\n| 6 | 65 | M | 1 | HbA1c01M |  6.2 |\n| 7 | 68 | F | 1 | HbA1c01M |  7.4 |\n| 1 | 56 | M | 1 | HbA1c02M |  7.3 |\n| 2 | 77 | F | 1 | HbA1c02M |  8.3 |\n| 3 | 68 | M | 1 | HbA1c02M |  7.0 |\n| 4 | 81 | F | 1 | HbA1c02M |  7.3 |\n| 5 | 42 | M | 1 | HbA1c02M |  7.3 |\n| 6 | 65 | M | 1 | HbA1c02M |  6.0 |\n| 7 | 68 | F | 1 | HbA1c02M |  7.9 |\n| 1 | 56 | M | 1 | HbA1c03M |  7.4 |\n| 2 | 77 | F | 1 | HbA1c03M |  8.2 |\n| 3 | 68 | M | 1 | HbA1c03M |  7.0 |\n| 4 | 81 | F | 1 | HbA1c03M |  7.4 |\n| 5 | 42 | M | 1 | HbA1c03M |  6.5 |\n| 6 | 65 | M | 1 | HbA1c03M |  6.3 |\n| 7 | 68 | F | 1 | HbA1c03M |  8.4 |\n\n",
            "text/html": [
              "<table>\n",
              "<caption>A tibble: 28 × 6</caption>\n",
              "<thead>\n",
              "\t<tr><th scope=col>id</th><th scope=col>age</th><th scope=col>sex</th><th scope=col>DM</th><th scope=col>time</th><th scope=col>HbA1c</th></tr>\n",
              "\t<tr><th scope=col>&lt;dbl&gt;</th><th scope=col>&lt;dbl&gt;</th><th scope=col>&lt;chr&gt;</th><th scope=col>&lt;dbl&gt;</th><th scope=col>&lt;chr&gt;</th><th scope=col>&lt;dbl&gt;</th></tr>\n",
              "</thead>\n",
              "<tbody>\n",
              "\t<tr><td>1</td><td>56</td><td>M</td><td>1</td><td>HbA1c00M</td><td> 7.3</td></tr>\n",
              "\t<tr><td>2</td><td>77</td><td>F</td><td>1</td><td>HbA1c00M</td><td> 8.3</td></tr>\n",
              "\t<tr><td>3</td><td>68</td><td>M</td><td>1</td><td>HbA1c00M</td><td> 7.1</td></tr>\n",
              "\t<tr><td>4</td><td>81</td><td>F</td><td>1</td><td>HbA1c00M</td><td> 7.6</td></tr>\n",
              "\t<tr><td>5</td><td>42</td><td>M</td><td>1</td><td>HbA1c00M</td><td>10.1</td></tr>\n",
              "\t<tr><td>6</td><td>65</td><td>M</td><td>1</td><td>HbA1c00M</td><td> 6.1</td></tr>\n",
              "\t<tr><td>7</td><td>68</td><td>F</td><td>1</td><td>HbA1c00M</td><td> 7.8</td></tr>\n",
              "\t<tr><td>1</td><td>56</td><td>M</td><td>1</td><td>HbA1c01M</td><td> 7.4</td></tr>\n",
              "\t<tr><td>2</td><td>77</td><td>F</td><td>1</td><td>HbA1c01M</td><td> 8.4</td></tr>\n",
              "\t<tr><td>3</td><td>68</td><td>M</td><td>1</td><td>HbA1c01M</td><td> 7.0</td></tr>\n",
              "\t<tr><td>4</td><td>81</td><td>F</td><td>1</td><td>HbA1c01M</td><td> 7.4</td></tr>\n",
              "\t<tr><td>5</td><td>42</td><td>M</td><td>1</td><td>HbA1c01M</td><td> 8.4</td></tr>\n",
              "\t<tr><td>6</td><td>65</td><td>M</td><td>1</td><td>HbA1c01M</td><td> 6.2</td></tr>\n",
              "\t<tr><td>7</td><td>68</td><td>F</td><td>1</td><td>HbA1c01M</td><td> 7.4</td></tr>\n",
              "\t<tr><td>1</td><td>56</td><td>M</td><td>1</td><td>HbA1c02M</td><td> 7.3</td></tr>\n",
              "\t<tr><td>2</td><td>77</td><td>F</td><td>1</td><td>HbA1c02M</td><td> 8.3</td></tr>\n",
              "\t<tr><td>3</td><td>68</td><td>M</td><td>1</td><td>HbA1c02M</td><td> 7.0</td></tr>\n",
              "\t<tr><td>4</td><td>81</td><td>F</td><td>1</td><td>HbA1c02M</td><td> 7.3</td></tr>\n",
              "\t<tr><td>5</td><td>42</td><td>M</td><td>1</td><td>HbA1c02M</td><td> 7.3</td></tr>\n",
              "\t<tr><td>6</td><td>65</td><td>M</td><td>1</td><td>HbA1c02M</td><td> 6.0</td></tr>\n",
              "\t<tr><td>7</td><td>68</td><td>F</td><td>1</td><td>HbA1c02M</td><td> 7.9</td></tr>\n",
              "\t<tr><td>1</td><td>56</td><td>M</td><td>1</td><td>HbA1c03M</td><td> 7.4</td></tr>\n",
              "\t<tr><td>2</td><td>77</td><td>F</td><td>1</td><td>HbA1c03M</td><td> 8.2</td></tr>\n",
              "\t<tr><td>3</td><td>68</td><td>M</td><td>1</td><td>HbA1c03M</td><td> 7.0</td></tr>\n",
              "\t<tr><td>4</td><td>81</td><td>F</td><td>1</td><td>HbA1c03M</td><td> 7.4</td></tr>\n",
              "\t<tr><td>5</td><td>42</td><td>M</td><td>1</td><td>HbA1c03M</td><td> 6.5</td></tr>\n",
              "\t<tr><td>6</td><td>65</td><td>M</td><td>1</td><td>HbA1c03M</td><td> 6.3</td></tr>\n",
              "\t<tr><td>7</td><td>68</td><td>F</td><td>1</td><td>HbA1c03M</td><td> 8.4</td></tr>\n",
              "</tbody>\n",
              "</table>\n"
            ]
          },
          "metadata": {
            "tags": []
          }
        }
      ]
    },
    {
      "cell_type": "code",
      "metadata": {
        "id": "L002PYUBLASt",
        "colab_type": "code",
        "colab": {
          "base_uri": "https://localhost:8080/",
          "height": 161
        },
        "outputId": "58774d6c-7d25-48f9-d460-511eb5d62770"
      },
      "source": [
        "d2 <- tidy_d %>% \n",
        "  group_by(time) %>%\n",
        "  summarise(HbA1c_avg = mean(HbA1c), HbA1c_sd = sd(HbA1c))\n",
        "d2"
      ],
      "execution_count": null,
      "outputs": [
        {
          "output_type": "display_data",
          "data": {
            "text/plain": [
              "  time     HbA1c_avg HbA1c_sd \n",
              "1 HbA1c00M 7.757143  1.2380861\n",
              "2 HbA1c01M 7.457143  0.7721337\n",
              "3 HbA1c02M 7.300000  0.7234178\n",
              "4 HbA1c03M 7.314286  0.7925246"
            ],
            "text/latex": "A tibble: 4 × 3\n\\begin{tabular}{r|lll}\n time & HbA1c\\_avg & HbA1c\\_sd\\\\\n <chr> & <dbl> & <dbl>\\\\\n\\hline\n\t HbA1c00M & 7.757143 & 1.2380861\\\\\n\t HbA1c01M & 7.457143 & 0.7721337\\\\\n\t HbA1c02M & 7.300000 & 0.7234178\\\\\n\t HbA1c03M & 7.314286 & 0.7925246\\\\\n\\end{tabular}\n",
            "text/markdown": "\nA tibble: 4 × 3\n\n| time &lt;chr&gt; | HbA1c_avg &lt;dbl&gt; | HbA1c_sd &lt;dbl&gt; |\n|---|---|---|\n| HbA1c00M | 7.757143 | 1.2380861 |\n| HbA1c01M | 7.457143 | 0.7721337 |\n| HbA1c02M | 7.300000 | 0.7234178 |\n| HbA1c03M | 7.314286 | 0.7925246 |\n\n",
            "text/html": [
              "<table>\n",
              "<caption>A tibble: 4 × 3</caption>\n",
              "<thead>\n",
              "\t<tr><th scope=col>time</th><th scope=col>HbA1c_avg</th><th scope=col>HbA1c_sd</th></tr>\n",
              "\t<tr><th scope=col>&lt;chr&gt;</th><th scope=col>&lt;dbl&gt;</th><th scope=col>&lt;dbl&gt;</th></tr>\n",
              "</thead>\n",
              "<tbody>\n",
              "\t<tr><td>HbA1c00M</td><td>7.757143</td><td>1.2380861</td></tr>\n",
              "\t<tr><td>HbA1c01M</td><td>7.457143</td><td>0.7721337</td></tr>\n",
              "\t<tr><td>HbA1c02M</td><td>7.300000</td><td>0.7234178</td></tr>\n",
              "\t<tr><td>HbA1c03M</td><td>7.314286</td><td>0.7925246</td></tr>\n",
              "</tbody>\n",
              "</table>\n"
            ]
          },
          "metadata": {
            "tags": []
          }
        }
      ]
    },
    {
      "cell_type": "code",
      "metadata": {
        "id": "WJQ1VKasOp_p",
        "colab_type": "code",
        "colab": {
          "base_uri": "https://localhost:8080/",
          "height": 929
        },
        "outputId": "13e1db75-73ab-4378-832a-4232492c9312"
      },
      "source": [
        "# Google Colaboratoryでは以下のコードはうまくいかない\n",
        "# install.packages(\"ggplotgui\")\n",
        "# library(ggplotgui)\n",
        "# ggplot_shiny(dataset=d2)\n",
        "\n",
        "# ggplot()関数とstat_summary()関数で折れ線グラフを描く\n",
        "g <- ggplot(data = tidy_d, aes(x = time, y=HbA1c)) +\n",
        "  theme_set(theme_classic(base_size = 12)) +\n",
        "  stat_summary(\n",
        "    aes(group=sex),    # sex性別ごとに\n",
        "    fun.y=mean,        # 平均値を\n",
        "    geom=\"line\",       # 線でつなげて\n",
        "    colour=\"black\",    # 色は黒で\n",
        "    size=0.5          # 先の太さは0.5mm\n",
        "  ) \n",
        "\n",
        "# エラーバーの追加\n",
        "# Google Colaboratoryでは、fun.data = mean_sdl (標準偏差)はうまくいかない\n",
        "# R Studioではうまくいくよう\n",
        "g <- g +\n",
        "  stat_summary(aes(group=sex),  # sex性別ごとに\n",
        "    fun.data=mean_se,          # mean_seで標準誤差、#mean_cl_normalで95%信頼区間(正規分布)\n",
        "    geom=\"errorbar\",\n",
        "    size=0.5,                   # 線の太さ\n",
        "    width=0.1\n",
        "  )\n",
        "\n",
        "# エラーバーの上から重ねて、点(マーク)を描き入れる\n",
        "g <-g +\n",
        "  stat_summary(\n",
        "    aes(shape=sex),   # 種類ごとに点の形を変えて\n",
        "    fun.y=mean,        # 種類ごとの平均値のところに\n",
        "    geom=\"point\",      # 点で\n",
        "    colour=\"black\",\n",
        "    size=4)\n",
        "\n",
        "# 形の指定\n",
        "# 点の形を１番◯、１５番■(、２３番◇)にマニュアル変更\n",
        "g <- g +\n",
        "  scale_shape_manual(values=c(1,15))\n",
        "\n",
        "# 原点を左下にする\n",
        "g <- g +\n",
        "  scale_y_continuous(limits = c(0,10))\n",
        "\n",
        "g"
      ],
      "execution_count": null,
      "outputs": [
        {
          "output_type": "stream",
          "text": [
            "Warning message:\n",
            "“Removed 1 rows containing non-finite values (stat_summary).”Warning message:\n",
            "“Removed 1 rows containing non-finite values (stat_summary).”Warning message:\n",
            "“Removed 1 rows containing non-finite values (stat_summary).”"
          ],
          "name": "stderr"
        },
        {
          "output_type": "display_data",
          "data": {
            "image/png": "[encoded data removed]",
            "text/plain": [
              "plot without title"
            ]
          },
          "metadata": {
            "tags": []
          }
        }
      ]
    },
    {
      "cell_type": "code",
      "metadata": {
        "id": "xofa_PmxB5MF",
        "colab_type": "code",
        "colab": {}
      },
      "source": [
        ""
      ],
      "execution_count": null,
      "outputs": []
    }
  ]
}